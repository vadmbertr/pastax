{
 "cells": [
  {
   "cell_type": "code",
   "execution_count": null,
   "metadata": {},
   "outputs": [],
   "source": [
    "import jax.numpy as jnp\n",
    "\n",
    "from sealagrangiax.grid import Dataset\n",
    "from sealagrangiax.simulator import LinearSSC\n",
    "from sealagrangiax.trajectory import Location\n",
    "\n",
    "\n",
    "x0 = Location(jnp.zeros(2))\n",
    "dt = jnp.asarray(6*60*60)\n",
    "ts = jnp.linspace(0, dt*6, 7)\n",
    "\n",
    "jax_ds = Dataset.from_arrays(\n",
    "    variables={\"u\": jnp.ones((7, 100, 100)), \"v\": jnp.ones((7, 100, 100))},\n",
    "    time=ts, latitude=jnp.linspace(-89, 89, 100), longitude=jnp.linspace(-179, 179, 100),\n",
    "    convert_uv_to_dps=True\n",
    ")\n",
    "\n",
    "linear_sim = LinearSSC()\n",
    "\n",
    "traj = linear_sim(jax_ds, x0, ts[1:-1], dt0=jnp.asarray(30*60))"
   ]
  },
  {
   "cell_type": "code",
   "execution_count": null,
   "metadata": {},
   "outputs": [],
   "source": [
    "import equinox as eqx\n",
    "\n",
    "\n",
    "class DummySimulator(eqx.Module):\n",
    "\n",
    "    intercept\n",
    "    slope\n",
    "\n",
    "    __call__(self, ds, x0, ts, dt0):"
   ]
  }
 ],
 "metadata": {
  "kernelspec": {
   "display_name": "sealagrangiax",
   "language": "python",
   "name": "python3"
  },
  "language_info": {
   "name": "python",
   "version": "3.11.10"
  }
 },
 "nbformat": 4,
 "nbformat_minor": 2
}
